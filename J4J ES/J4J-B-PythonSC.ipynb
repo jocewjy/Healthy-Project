{
 "cells": [
  {
   "cell_type": "markdown",
   "id": "b639c19a",
   "metadata": {},
   "source": [
    "### Inference Engine Building"
   ]
  },
  {
   "cell_type": "code",
   "execution_count": 1,
   "id": "e3e867ef",
   "metadata": {},
   "outputs": [
    {
     "name": "stdout",
     "output_type": "stream",
     "text": [
      "Requirement already satisfied: pysimplegui in c:\\programdata\\anaconda3\\lib\\site-packages (4.55.1)\n",
      "Note: you may need to restart the kernel to use updated packages.\n"
     ]
    }
   ],
   "source": [
    "pip install pysimplegui"
   ]
  },
  {
   "cell_type": "code",
   "execution_count": 2,
   "id": "12aad806",
   "metadata": {},
   "outputs": [],
   "source": [
    "import pandas as pd\n",
    "import PySimpleGUI as sg\n",
    "\n",
    "from sklearn.preprocessing import LabelEncoder\n",
    "from sklearn import tree\n",
    "from PIL import Image, ImageTk"
   ]
  },
  {
   "cell_type": "code",
   "execution_count": 3,
   "id": "6156bb83",
   "metadata": {},
   "outputs": [
    {
     "data": {
      "text/html": [
       "<div>\n",
       "<style scoped>\n",
       "    .dataframe tbody tr th:only-of-type {\n",
       "        vertical-align: middle;\n",
       "    }\n",
       "\n",
       "    .dataframe tbody tr th {\n",
       "        vertical-align: top;\n",
       "    }\n",
       "\n",
       "    .dataframe thead th {\n",
       "        text-align: right;\n",
       "    }\n",
       "</style>\n",
       "<table border=\"1\" class=\"dataframe\">\n",
       "  <thead>\n",
       "    <tr style=\"text-align: right;\">\n",
       "      <th></th>\n",
       "      <th>Age</th>\n",
       "      <th>BMI</th>\n",
       "      <th>Sex</th>\n",
       "      <th>Activity_intensity</th>\n",
       "      <th>Calories_need</th>\n",
       "    </tr>\n",
       "  </thead>\n",
       "  <tbody>\n",
       "    <tr>\n",
       "      <th>0</th>\n",
       "      <td>&lt;17</td>\n",
       "      <td>&lt;18,5</td>\n",
       "      <td>M</td>\n",
       "      <td>High</td>\n",
       "      <td>2170</td>\n",
       "    </tr>\n",
       "    <tr>\n",
       "      <th>1</th>\n",
       "      <td>17-29</td>\n",
       "      <td>&lt;18,5</td>\n",
       "      <td>M</td>\n",
       "      <td>High</td>\n",
       "      <td>2101</td>\n",
       "    </tr>\n",
       "    <tr>\n",
       "      <th>2</th>\n",
       "      <td>30-50</td>\n",
       "      <td>&lt;18,5</td>\n",
       "      <td>M</td>\n",
       "      <td>High</td>\n",
       "      <td>1957</td>\n",
       "    </tr>\n",
       "    <tr>\n",
       "      <th>3</th>\n",
       "      <td>&gt;50</td>\n",
       "      <td>&lt;18,5</td>\n",
       "      <td>M</td>\n",
       "      <td>High</td>\n",
       "      <td>1787</td>\n",
       "    </tr>\n",
       "    <tr>\n",
       "      <th>4</th>\n",
       "      <td>&lt;17</td>\n",
       "      <td>&lt;18,5</td>\n",
       "      <td>F</td>\n",
       "      <td>High</td>\n",
       "      <td>1887</td>\n",
       "    </tr>\n",
       "  </tbody>\n",
       "</table>\n",
       "</div>"
      ],
      "text/plain": [
       "     Age    BMI Sex Activity_intensity  Calories_need\n",
       "0    <17  <18,5   M               High           2170\n",
       "1  17-29  <18,5   M               High           2101\n",
       "2  30-50  <18,5   M               High           1957\n",
       "3    >50  <18,5   M               High           1787\n",
       "4    <17  <18,5   F               High           1887"
      ]
     },
     "execution_count": 3,
     "metadata": {},
     "output_type": "execute_result"
    }
   ],
   "source": [
    "df = pd.read_csv(\"calories_decision_table.csv\")\n",
    "\n",
    "df.head()"
   ]
  },
  {
   "cell_type": "code",
   "execution_count": 4,
   "id": "15b15b5c",
   "metadata": {},
   "outputs": [
    {
     "data": {
      "text/plain": [
       "(120, 5)"
      ]
     },
     "execution_count": 4,
     "metadata": {},
     "output_type": "execute_result"
    }
   ],
   "source": [
    "df.shape"
   ]
  },
  {
   "cell_type": "code",
   "execution_count": 5,
   "id": "f3e4cbbc",
   "metadata": {},
   "outputs": [
    {
     "data": {
      "text/plain": [
       "Age                     4\n",
       "BMI                     5\n",
       "Sex                     2\n",
       "Activity_intensity      3\n",
       "Calories_need         118\n",
       "dtype: int64"
      ]
     },
     "execution_count": 5,
     "metadata": {},
     "output_type": "execute_result"
    }
   ],
   "source": [
    "df.nunique()"
   ]
  },
  {
   "cell_type": "code",
   "execution_count": 6,
   "id": "a2b471fd",
   "metadata": {},
   "outputs": [
    {
     "name": "stdout",
     "output_type": "stream",
     "text": [
      "Unique Age: ['<17' '17-29' '30-50' '>50']\n",
      "Unique BMI: ['<18,5' '>35' '18,5-24,9' '25-29,9' '30-34,9']\n",
      "Unique Sex: ['M' 'F']\n",
      "Unique Activity_intensity: ['High' 'Medium' 'Low']\n"
     ]
    }
   ],
   "source": [
    "print(f\"Unique Age: {df['Age'].unique()}\")\n",
    "print(f\"Unique BMI: {df['BMI'].unique()}\")\n",
    "print(f\"Unique Sex: {df['Sex'].unique()}\")\n",
    "print(f\"Unique Activity_intensity: {df['Activity_intensity'].unique()}\")"
   ]
  },
  {
   "cell_type": "code",
   "execution_count": 7,
   "id": "c8c53004",
   "metadata": {},
   "outputs": [],
   "source": [
    "inputs = df.drop('Calories_need', axis = 'columns')\n",
    "target = df['Calories_need']"
   ]
  },
  {
   "cell_type": "code",
   "execution_count": 8,
   "id": "753ef64c",
   "metadata": {
    "scrolled": false
   },
   "outputs": [
    {
     "data": {
      "text/html": [
       "<div>\n",
       "<style scoped>\n",
       "    .dataframe tbody tr th:only-of-type {\n",
       "        vertical-align: middle;\n",
       "    }\n",
       "\n",
       "    .dataframe tbody tr th {\n",
       "        vertical-align: top;\n",
       "    }\n",
       "\n",
       "    .dataframe thead th {\n",
       "        text-align: right;\n",
       "    }\n",
       "</style>\n",
       "<table border=\"1\" class=\"dataframe\">\n",
       "  <thead>\n",
       "    <tr style=\"text-align: right;\">\n",
       "      <th></th>\n",
       "      <th>Age</th>\n",
       "      <th>BMI</th>\n",
       "      <th>Sex</th>\n",
       "      <th>Activity_intensity</th>\n",
       "      <th>age_n</th>\n",
       "      <th>bmi_n</th>\n",
       "      <th>sex_n</th>\n",
       "      <th>activity_n</th>\n",
       "    </tr>\n",
       "  </thead>\n",
       "  <tbody>\n",
       "    <tr>\n",
       "      <th>0</th>\n",
       "      <td>&lt;17</td>\n",
       "      <td>&lt;18,5</td>\n",
       "      <td>M</td>\n",
       "      <td>High</td>\n",
       "      <td>0</td>\n",
       "      <td>0</td>\n",
       "      <td>0</td>\n",
       "      <td>0</td>\n",
       "    </tr>\n",
       "    <tr>\n",
       "      <th>1</th>\n",
       "      <td>17-29</td>\n",
       "      <td>&lt;18,5</td>\n",
       "      <td>M</td>\n",
       "      <td>High</td>\n",
       "      <td>1</td>\n",
       "      <td>0</td>\n",
       "      <td>0</td>\n",
       "      <td>0</td>\n",
       "    </tr>\n",
       "    <tr>\n",
       "      <th>2</th>\n",
       "      <td>30-50</td>\n",
       "      <td>&lt;18,5</td>\n",
       "      <td>M</td>\n",
       "      <td>High</td>\n",
       "      <td>2</td>\n",
       "      <td>0</td>\n",
       "      <td>0</td>\n",
       "      <td>0</td>\n",
       "    </tr>\n",
       "    <tr>\n",
       "      <th>3</th>\n",
       "      <td>&gt;50</td>\n",
       "      <td>&lt;18,5</td>\n",
       "      <td>M</td>\n",
       "      <td>High</td>\n",
       "      <td>3</td>\n",
       "      <td>0</td>\n",
       "      <td>0</td>\n",
       "      <td>0</td>\n",
       "    </tr>\n",
       "    <tr>\n",
       "      <th>4</th>\n",
       "      <td>&lt;17</td>\n",
       "      <td>&lt;18,5</td>\n",
       "      <td>F</td>\n",
       "      <td>High</td>\n",
       "      <td>0</td>\n",
       "      <td>0</td>\n",
       "      <td>1</td>\n",
       "      <td>0</td>\n",
       "    </tr>\n",
       "  </tbody>\n",
       "</table>\n",
       "</div>"
      ],
      "text/plain": [
       "     Age    BMI Sex Activity_intensity  age_n  bmi_n  sex_n  activity_n\n",
       "0    <17  <18,5   M               High      0      0      0           0\n",
       "1  17-29  <18,5   M               High      1      0      0           0\n",
       "2  30-50  <18,5   M               High      2      0      0           0\n",
       "3    >50  <18,5   M               High      3      0      0           0\n",
       "4    <17  <18,5   F               High      0      0      1           0"
      ]
     },
     "execution_count": 8,
     "metadata": {},
     "output_type": "execute_result"
    }
   ],
   "source": [
    "inputs['age_n'] = df['Age'].replace(['<17', '17-29', '30-50', '>50'], [0, 1, 2, 3])\n",
    "inputs['bmi_n'] = df['BMI'].replace(['<18,5', '18,5-24,9', '25-29,9', '30-34,9', '>35'], [0, 1, 2, 3, 4])\n",
    "inputs['sex_n'] = df['Sex'].replace(['M', 'F'], [0, 1])\n",
    "inputs['activity_n'] = df['Activity_intensity'].replace(['High', 'Medium', 'Low'], [0, 1, 2])\n",
    "\n",
    "inputs.head()"
   ]
  },
  {
   "cell_type": "code",
   "execution_count": 9,
   "id": "67f0a7f4",
   "metadata": {},
   "outputs": [
    {
     "data": {
      "text/html": [
       "<div>\n",
       "<style scoped>\n",
       "    .dataframe tbody tr th:only-of-type {\n",
       "        vertical-align: middle;\n",
       "    }\n",
       "\n",
       "    .dataframe tbody tr th {\n",
       "        vertical-align: top;\n",
       "    }\n",
       "\n",
       "    .dataframe thead th {\n",
       "        text-align: right;\n",
       "    }\n",
       "</style>\n",
       "<table border=\"1\" class=\"dataframe\">\n",
       "  <thead>\n",
       "    <tr style=\"text-align: right;\">\n",
       "      <th></th>\n",
       "      <th>age_n</th>\n",
       "      <th>bmi_n</th>\n",
       "      <th>sex_n</th>\n",
       "      <th>activity_n</th>\n",
       "    </tr>\n",
       "  </thead>\n",
       "  <tbody>\n",
       "    <tr>\n",
       "      <th>0</th>\n",
       "      <td>0</td>\n",
       "      <td>0</td>\n",
       "      <td>0</td>\n",
       "      <td>0</td>\n",
       "    </tr>\n",
       "    <tr>\n",
       "      <th>1</th>\n",
       "      <td>1</td>\n",
       "      <td>0</td>\n",
       "      <td>0</td>\n",
       "      <td>0</td>\n",
       "    </tr>\n",
       "    <tr>\n",
       "      <th>2</th>\n",
       "      <td>2</td>\n",
       "      <td>0</td>\n",
       "      <td>0</td>\n",
       "      <td>0</td>\n",
       "    </tr>\n",
       "    <tr>\n",
       "      <th>3</th>\n",
       "      <td>3</td>\n",
       "      <td>0</td>\n",
       "      <td>0</td>\n",
       "      <td>0</td>\n",
       "    </tr>\n",
       "    <tr>\n",
       "      <th>4</th>\n",
       "      <td>0</td>\n",
       "      <td>0</td>\n",
       "      <td>1</td>\n",
       "      <td>0</td>\n",
       "    </tr>\n",
       "  </tbody>\n",
       "</table>\n",
       "</div>"
      ],
      "text/plain": [
       "   age_n  bmi_n  sex_n  activity_n\n",
       "0      0      0      0           0\n",
       "1      1      0      0           0\n",
       "2      2      0      0           0\n",
       "3      3      0      0           0\n",
       "4      0      0      1           0"
      ]
     },
     "execution_count": 9,
     "metadata": {},
     "output_type": "execute_result"
    }
   ],
   "source": [
    "inputs_n = inputs.drop(['Age', 'BMI', 'Sex', 'Activity_intensity'], axis = 'columns')\n",
    "\n",
    "inputs_n.head()"
   ]
  },
  {
   "cell_type": "code",
   "execution_count": 10,
   "id": "14f349bc",
   "metadata": {},
   "outputs": [],
   "source": [
    "model = tree.DecisionTreeClassifier()"
   ]
  },
  {
   "cell_type": "code",
   "execution_count": 11,
   "id": "ff3a0856",
   "metadata": {},
   "outputs": [
    {
     "data": {
      "text/plain": [
       "DecisionTreeClassifier()"
      ]
     },
     "execution_count": 11,
     "metadata": {},
     "output_type": "execute_result"
    }
   ],
   "source": [
    "model.fit(inputs_n, target)"
   ]
  },
  {
   "cell_type": "code",
   "execution_count": 12,
   "id": "86e1722f",
   "metadata": {},
   "outputs": [
    {
     "data": {
      "text/plain": [
       "1.0"
      ]
     },
     "execution_count": 12,
     "metadata": {},
     "output_type": "execute_result"
    }
   ],
   "source": [
    "model.score(inputs_n, target)"
   ]
  },
  {
   "cell_type": "code",
   "execution_count": 13,
   "id": "2d1d001f",
   "metadata": {
    "scrolled": true
   },
   "outputs": [
    {
     "data": {
      "text/html": [
       "<div>\n",
       "<style scoped>\n",
       "    .dataframe tbody tr th:only-of-type {\n",
       "        vertical-align: middle;\n",
       "    }\n",
       "\n",
       "    .dataframe tbody tr th {\n",
       "        vertical-align: top;\n",
       "    }\n",
       "\n",
       "    .dataframe thead th {\n",
       "        text-align: right;\n",
       "    }\n",
       "</style>\n",
       "<table border=\"1\" class=\"dataframe\">\n",
       "  <thead>\n",
       "    <tr style=\"text-align: right;\">\n",
       "      <th></th>\n",
       "      <th>Food</th>\n",
       "      <th>Serving</th>\n",
       "      <th>Calories</th>\n",
       "    </tr>\n",
       "  </thead>\n",
       "  <tbody>\n",
       "    <tr>\n",
       "      <th>0</th>\n",
       "      <td>Artichoke</td>\n",
       "      <td>1 artichoke (128 g)</td>\n",
       "      <td>60 cal</td>\n",
       "    </tr>\n",
       "    <tr>\n",
       "      <th>1</th>\n",
       "      <td>Arugula</td>\n",
       "      <td>1 leaf (2 g)</td>\n",
       "      <td>1 cal</td>\n",
       "    </tr>\n",
       "    <tr>\n",
       "      <th>2</th>\n",
       "      <td>Asparagus</td>\n",
       "      <td>1 spear (12 g)</td>\n",
       "      <td>2 cal</td>\n",
       "    </tr>\n",
       "    <tr>\n",
       "      <th>3</th>\n",
       "      <td>Aubergine</td>\n",
       "      <td>1 aubergine (458 g)</td>\n",
       "      <td>115 cal</td>\n",
       "    </tr>\n",
       "    <tr>\n",
       "      <th>4</th>\n",
       "      <td>Beetroot</td>\n",
       "      <td>1 beet (82 g)</td>\n",
       "      <td>35 cal</td>\n",
       "    </tr>\n",
       "  </tbody>\n",
       "</table>\n",
       "</div>"
      ],
      "text/plain": [
       "        Food              Serving Calories\n",
       "0  Artichoke  1 artichoke (128 g)   60 cal\n",
       "1    Arugula         1 leaf (2 g)    1 cal\n",
       "2  Asparagus       1 spear (12 g)    2 cal\n",
       "3  Aubergine  1 aubergine (458 g)  115 cal\n",
       "4   Beetroot        1 beet (82 g)   35 cal"
      ]
     },
     "execution_count": 13,
     "metadata": {},
     "output_type": "execute_result"
    }
   ],
   "source": [
    "#dataset from https://www.kaggle.com/vaishnavivenkatesan/food-and-their-calories\n",
    "food = pd.read_csv(\"Food_and_Calories_-_Sheet1.csv\")\n",
    "\n",
    "food.head()"
   ]
  },
  {
   "cell_type": "code",
   "execution_count": 14,
   "id": "bdbc002f",
   "metadata": {
    "scrolled": true
   },
   "outputs": [
    {
     "data": {
      "text/html": [
       "<div>\n",
       "<style scoped>\n",
       "    .dataframe tbody tr th:only-of-type {\n",
       "        vertical-align: middle;\n",
       "    }\n",
       "\n",
       "    .dataframe tbody tr th {\n",
       "        vertical-align: top;\n",
       "    }\n",
       "\n",
       "    .dataframe thead th {\n",
       "        text-align: right;\n",
       "    }\n",
       "</style>\n",
       "<table border=\"1\" class=\"dataframe\">\n",
       "  <thead>\n",
       "    <tr style=\"text-align: right;\">\n",
       "      <th></th>\n",
       "      <th>Food</th>\n",
       "      <th>Serving</th>\n",
       "      <th>Calories</th>\n",
       "    </tr>\n",
       "  </thead>\n",
       "  <tbody>\n",
       "    <tr>\n",
       "      <th>0</th>\n",
       "      <td>Artichoke</td>\n",
       "      <td>1 artichoke (128 g)</td>\n",
       "      <td>60</td>\n",
       "    </tr>\n",
       "    <tr>\n",
       "      <th>1</th>\n",
       "      <td>Arugula</td>\n",
       "      <td>1 leaf (2 g)</td>\n",
       "      <td>1</td>\n",
       "    </tr>\n",
       "    <tr>\n",
       "      <th>2</th>\n",
       "      <td>Asparagus</td>\n",
       "      <td>1 spear (12 g)</td>\n",
       "      <td>2</td>\n",
       "    </tr>\n",
       "    <tr>\n",
       "      <th>3</th>\n",
       "      <td>Aubergine</td>\n",
       "      <td>1 aubergine (458 g)</td>\n",
       "      <td>115</td>\n",
       "    </tr>\n",
       "    <tr>\n",
       "      <th>4</th>\n",
       "      <td>Beetroot</td>\n",
       "      <td>1 beet (82 g)</td>\n",
       "      <td>35</td>\n",
       "    </tr>\n",
       "  </tbody>\n",
       "</table>\n",
       "</div>"
      ],
      "text/plain": [
       "        Food              Serving Calories\n",
       "0  Artichoke  1 artichoke (128 g)       60\n",
       "1    Arugula         1 leaf (2 g)        1\n",
       "2  Asparagus       1 spear (12 g)        2\n",
       "3  Aubergine  1 aubergine (458 g)      115\n",
       "4   Beetroot        1 beet (82 g)       35"
      ]
     },
     "execution_count": 14,
     "metadata": {},
     "output_type": "execute_result"
    }
   ],
   "source": [
    "food['Calories'] = food['Calories'].str.replace(\" cal\", \"\")\n",
    "\n",
    "food.head()"
   ]
  },
  {
   "cell_type": "markdown",
   "id": "d42663ff",
   "metadata": {},
   "source": [
    "### Test Run"
   ]
  },
  {
   "cell_type": "code",
   "execution_count": 15,
   "id": "c4f287c4",
   "metadata": {},
   "outputs": [
    {
     "data": {
      "text/plain": [
       "1956"
      ]
     },
     "execution_count": 15,
     "metadata": {},
     "output_type": "execute_result"
    }
   ],
   "source": [
    "ageInput = 1\n",
    "bmiInput = 1\n",
    "sexInput = 1\n",
    "activityInput = 1\n",
    "\n",
    "caloriesOutput = model.predict([[ageInput, bmiInput, sexInput, activityInput]])[0]\n",
    "caloriesOutput"
   ]
  },
  {
   "cell_type": "code",
   "execution_count": 16,
   "id": "252ca0b7",
   "metadata": {},
   "outputs": [
    {
     "data": {
      "text/html": [
       "<div>\n",
       "<style scoped>\n",
       "    .dataframe tbody tr th:only-of-type {\n",
       "        vertical-align: middle;\n",
       "    }\n",
       "\n",
       "    .dataframe tbody tr th {\n",
       "        vertical-align: top;\n",
       "    }\n",
       "\n",
       "    .dataframe thead th {\n",
       "        text-align: right;\n",
       "    }\n",
       "</style>\n",
       "<table border=\"1\" class=\"dataframe\">\n",
       "  <thead>\n",
       "    <tr style=\"text-align: right;\">\n",
       "      <th></th>\n",
       "      <th>Food</th>\n",
       "      <th>Serving</th>\n",
       "      <th>Calories</th>\n",
       "    </tr>\n",
       "  </thead>\n",
       "  <tbody>\n",
       "    <tr>\n",
       "      <th>225</th>\n",
       "      <td>Spelt</td>\n",
       "      <td>1 cup (174 g)</td>\n",
       "      <td>588</td>\n",
       "    </tr>\n",
       "  </tbody>\n",
       "</table>\n",
       "</div>"
      ],
      "text/plain": [
       "      Food        Serving Calories\n",
       "225  Spelt  1 cup (174 g)      588"
      ]
     },
     "execution_count": 16,
     "metadata": {},
     "output_type": "execute_result"
    }
   ],
   "source": [
    "breakfast = food.iloc[(food['Calories'].astype(int) - (caloriesOutput * 0.3)).abs().argsort()[:1]]\n",
    "\n",
    "breakfast.head()"
   ]
  },
  {
   "cell_type": "code",
   "execution_count": 17,
   "id": "3c1c0ebd",
   "metadata": {},
   "outputs": [
    {
     "data": {
      "text/html": [
       "<div>\n",
       "<style scoped>\n",
       "    .dataframe tbody tr th:only-of-type {\n",
       "        vertical-align: middle;\n",
       "    }\n",
       "\n",
       "    .dataframe tbody tr th {\n",
       "        vertical-align: top;\n",
       "    }\n",
       "\n",
       "    .dataframe thead th {\n",
       "        text-align: right;\n",
       "    }\n",
       "</style>\n",
       "<table border=\"1\" class=\"dataframe\">\n",
       "  <thead>\n",
       "    <tr style=\"text-align: right;\">\n",
       "      <th></th>\n",
       "      <th>Food</th>\n",
       "      <th>Serving</th>\n",
       "      <th>Calories</th>\n",
       "    </tr>\n",
       "  </thead>\n",
       "  <tbody>\n",
       "    <tr>\n",
       "      <th>554</th>\n",
       "      <td>Veggie Patty</td>\n",
       "      <td>1 sandwich (247 g)</td>\n",
       "      <td>963</td>\n",
       "    </tr>\n",
       "  </tbody>\n",
       "</table>\n",
       "</div>"
      ],
      "text/plain": [
       "             Food             Serving Calories\n",
       "554  Veggie Patty  1 sandwich (247 g)      963"
      ]
     },
     "execution_count": 17,
     "metadata": {},
     "output_type": "execute_result"
    }
   ],
   "source": [
    "lunch = food.iloc[(food['Calories'].astype(int) - (caloriesOutput * 0.5)).abs().argsort()[:1]]\n",
    "\n",
    "lunch.head()"
   ]
  },
  {
   "cell_type": "code",
   "execution_count": 18,
   "id": "1bf9b94d",
   "metadata": {},
   "outputs": [
    {
     "data": {
      "text/html": [
       "<div>\n",
       "<style scoped>\n",
       "    .dataframe tbody tr th:only-of-type {\n",
       "        vertical-align: middle;\n",
       "    }\n",
       "\n",
       "    .dataframe tbody tr th {\n",
       "        vertical-align: top;\n",
       "    }\n",
       "\n",
       "    .dataframe thead th {\n",
       "        text-align: right;\n",
       "    }\n",
       "</style>\n",
       "<table border=\"1\" class=\"dataframe\">\n",
       "  <thead>\n",
       "    <tr style=\"text-align: right;\">\n",
       "      <th></th>\n",
       "      <th>Food</th>\n",
       "      <th>Serving</th>\n",
       "      <th>Calories</th>\n",
       "    </tr>\n",
       "  </thead>\n",
       "  <tbody>\n",
       "    <tr>\n",
       "      <th>535</th>\n",
       "      <td>McDonald’s Filet-o-Fish</td>\n",
       "      <td>1 sandwich (142 g)</td>\n",
       "      <td>391</td>\n",
       "    </tr>\n",
       "  </tbody>\n",
       "</table>\n",
       "</div>"
      ],
      "text/plain": [
       "                        Food             Serving Calories\n",
       "535  McDonald’s Filet-o-Fish  1 sandwich (142 g)      391"
      ]
     },
     "execution_count": 18,
     "metadata": {},
     "output_type": "execute_result"
    }
   ],
   "source": [
    "dinner = food.iloc[(food['Calories'].astype(int) - (caloriesOutput * 0.2)).abs().argsort()[:1]]\n",
    "\n",
    "dinner.head()"
   ]
  },
  {
   "cell_type": "code",
   "execution_count": 19,
   "id": "0ee61cdf",
   "metadata": {},
   "outputs": [
    {
     "name": "stdout",
     "output_type": "stream",
     "text": [
      "INPUT\n",
      "Age: 17-29\n",
      "BMI: 18,5-24,9\n",
      "Sex: F\n",
      "Activity_intensity: Middle\n",
      "\n",
      "OUTPUT\n",
      "Calories_need: 1956\n",
      "Breakfast: Spelt | 1 cup (174 g) | 588 cal\n",
      "Lunch: Veggie Patty | 1 sandwich (247 g) | 963 cal\n",
      "Dinner: McDonald’s Filet-o-Fish | 1 sandwich (142 g) | 391 cal\n"
     ]
    }
   ],
   "source": [
    "print(\"INPUT\")\n",
    "print(\"Age: 17-29\")\n",
    "print(\"BMI: 18,5-24,9\")\n",
    "print(\"Sex: F\")\n",
    "print(\"Activity_intensity: Middle\")\n",
    "print()\n",
    "print(\"OUTPUT\")\n",
    "print(\"Calories_need:\", caloriesOutput)\n",
    "print(\"Breakfast:\", breakfast['Food'].values[0], \"|\", breakfast['Serving'].values[0], \"|\", breakfast['Calories'].values[0], \"cal\")\n",
    "print(\"Lunch:\", lunch['Food'].values[0], \"|\", lunch['Serving'].values[0], \"|\", lunch['Calories'].values[0], \"cal\")\n",
    "print(\"Dinner:\", dinner['Food'].values[0], \"|\", dinner['Serving'].values[0], \"|\", dinner['Calories'].values[0], \"cal\")"
   ]
  },
  {
   "cell_type": "markdown",
   "id": "e49f2983",
   "metadata": {},
   "source": [
    "### User Interface"
   ]
  },
  {
   "cell_type": "code",
   "execution_count": 20,
   "id": "c8379bcf",
   "metadata": {},
   "outputs": [],
   "source": [
    "def findCaloriesNeed(uAge, uWeight, uHeight, uSex, uActivity):\n",
    "    if uAge < 17:\n",
    "        ageInput = 0\n",
    "    elif uAge >= 17 and uAge <= 29:\n",
    "        ageInput = 1\n",
    "    elif uAge >= 30 and uAge <= 50:\n",
    "        ageInput = 2\n",
    "    else:\n",
    "        ageInput = 3\n",
    "    \n",
    "    uBMI = uWeight / (uHeight * uHeight / 10000)\n",
    "    \n",
    "    if uBMI < 18.5:\n",
    "        bmiInput = 0\n",
    "    elif uBMI >= 18.5 and uBMI < 25:\n",
    "        bmiInput = 1\n",
    "    elif uBMI >= 25 and uBMI < 30:\n",
    "        bmiInput = 2\n",
    "    elif uBMI >= 30 and uBMI < 35:\n",
    "        bmiInput = 3\n",
    "    else:\n",
    "        bmiInput = 4\n",
    "    \n",
    "    if uSex == \"Male\":\n",
    "        sexInput = 0\n",
    "    else:\n",
    "        sexInput = 1\n",
    "    \n",
    "    if uActivity == \"High\":\n",
    "        activityInput = 0\n",
    "    elif uActivity == \"Medium\":\n",
    "        activityInput = 1\n",
    "    else:\n",
    "        activityInput = 2\n",
    "    \n",
    "    caloriesOutput = model.predict([[ageInput, bmiInput, sexInput, activityInput]])[0]\n",
    "    \n",
    "    return caloriesOutput"
   ]
  },
  {
   "cell_type": "code",
   "execution_count": 70,
   "id": "ca21b938",
   "metadata": {},
   "outputs": [],
   "source": [
    "sg.theme('Reddit')\n",
    "\n",
    "update_biodata = [\n",
    "    [\n",
    "        sg.Image(key = 'healthyIcon1', pad = ((80, 0), (0, 0))),\n",
    "        sg.Image(key = 'healthy1', pad = ((0, 80), (0, 0)))\n",
    "    ],\n",
    "    [\n",
    "        sg.Text()\n",
    "    ],\n",
    "    [\n",
    "        sg.Text(\"UPDATE BIODATA\", size = (38, 1), justification = 'center')\n",
    "    ],\n",
    "    [\n",
    "        sg.Text()\n",
    "    ],\n",
    "    [\n",
    "        sg.Text(\"Age\", size = (15, 1)),\n",
    "        sg.In(size = (25, 1), enable_events = True, key = \"uAge\", background_color = '#FDEFB2')\n",
    "    ],\n",
    "    [\n",
    "        sg.Text(\"Weight\", size = (15, 1)),\n",
    "        sg.In(size = (25, 1), enable_events = True, key = \"uWeight\", background_color = '#FDEFB2')\n",
    "    ],\n",
    "    [\n",
    "        sg.Text(\"Height\", size = (15, 1)),\n",
    "        sg.In(size = (25, 1), enable_events = True, key = \"uHeight\", background_color = '#FDEFB2')\n",
    "    ],\n",
    "    [\n",
    "        sg.Text(\"Sex\", size = (15, 1)),\n",
    "        sg.InputCombo(['Male', 'Female'], size = (23, 1), key = \"uSex\", background_color = '#FDEFB2')\n",
    "    ],\n",
    "    [\n",
    "        sg.Text(\"Activity Intensity\", size = (15, 1)),\n",
    "        sg.InputCombo(['High', 'Medium', 'Low'], size = (23, 1), key = \"uActivity\", background_color = '#FDEFB2', text_color = 'black')\n",
    "    ],\n",
    "    [\n",
    "        sg.Text()\n",
    "    ],\n",
    "    [\n",
    "        sg.Button('Generate Menu', size = (18, 1), button_color = ('black', '#F6D180')),\n",
    "        sg.Button('Cancel', size = (18, 1), button_color = ('black', '#FDEFB2'))\n",
    "    ]\n",
    "]\n",
    "\n",
    "todays_menu = [\n",
    "    [\n",
    "        sg.Image(key = 'healthyIcon2', pad = ((80, 0), (0, 0))),\n",
    "        sg.Image(key = 'healthy2', pad = ((0, 80), (0, 0)))\n",
    "    ],\n",
    "    [\n",
    "        sg.Text()\n",
    "    ],\n",
    "    [\n",
    "        sg.Text(\"TODAY'S MENU\", size = (38, 1), justification = 'center')\n",
    "    ],\n",
    "    [\n",
    "        sg.Text(\"Total Calories Need: -\" , size = (38, 1), justification = 'center', key = \"dailyCalories\")\n",
    "    ],\n",
    "    [\n",
    "        sg.Text()\n",
    "    ],\n",
    "    [\n",
    "        sg.Text(\"Breakfast\", size = (38, 1), justification = 'center')\n",
    "    ],\n",
    "    [\n",
    "        sg.Text(\"-\", size = (38, 1), key = \"bFood\")\n",
    "    ],\n",
    "    [\n",
    "        sg.Text(\"-\", size = (38, 1), key = \"bServing\")\n",
    "    ],\n",
    "    [\n",
    "        sg.Text(\"-\", size = (38, 1), key = \"bCalories\")\n",
    "    ],\n",
    "    [\n",
    "        sg.Text()\n",
    "    ],\n",
    "    [\n",
    "        sg.Text(\"Lunch\", size = (38, 1), justification = 'center')\n",
    "    ],\n",
    "    [\n",
    "        sg.Text(\"-\", size = (38, 1), key = \"lFood\")\n",
    "    ],\n",
    "    [\n",
    "        sg.Text(\"-\", size = (38, 1), key = \"lServing\")\n",
    "    ],\n",
    "    [\n",
    "        sg.Text(\"-\", size = (38, 1), key = \"lCalories\")\n",
    "    ],\n",
    "    [\n",
    "        sg.Text()\n",
    "    ],\n",
    "    [\n",
    "        sg.Text(\"Dinner\", size = (38, 1), justification = 'center')\n",
    "    ],\n",
    "    [\n",
    "        sg.Text(\"-\", size = (38, 1), key = \"dFood\")\n",
    "    ],\n",
    "    [\n",
    "        sg.Text(\"-\", size = (38, 1), key = \"dServing\")\n",
    "    ],\n",
    "    [\n",
    "        sg.Text(\"-\", size = (38, 1), key = \"dCalories\")\n",
    "    ],\n",
    "    [\n",
    "        sg.Text()\n",
    "    ],\n",
    "    [\n",
    "        sg.Button('Update Menu', size = (38, 1), button_color = ('black', '#F6D180'))\n",
    "    ]\n",
    "]\n",
    "\n",
    "layout = [\n",
    "    [\n",
    "        sg.Column(update_biodata, key = 'layout1', visible = False),\n",
    "        sg.Column(todays_menu, key = 'layout2', visible = True)\n",
    "    ]\n",
    "]\n",
    "\n",
    "window = sg.Window(\"H(EA)L(T)HY\", layout, size = (350, 600), finalize = True)\n",
    "\n",
    "healthy_icon = Image.open('healthy_icon.png').resize((50, 50), resample = Image.BICUBIC)\n",
    "window['healthyIcon1'].update(data = ImageTk.PhotoImage(image = healthy_icon))\n",
    "window['healthyIcon2'].update(data = ImageTk.PhotoImage(image = healthy_icon))\n",
    "\n",
    "healthy = Image.open('healthy.png').resize((89, 50), resample = Image.BICUBIC)\n",
    "window['healthy1'].update(data = ImageTk.PhotoImage(image = healthy))\n",
    "window['healthy2'].update(data = ImageTk.PhotoImage(image = healthy))\n",
    "\n",
    "while True:\n",
    "    event, values = window.read()\n",
    "    \n",
    "    if event == \"Exit\" or event == sg.WIN_CLOSED:\n",
    "        break\n",
    "        \n",
    "    if event == \"Generate Menu\":\n",
    "        uAge = float(values[\"uAge\"])\n",
    "        uWeight = float(values[\"uWeight\"])\n",
    "        uHeight = float(values[\"uHeight\"])\n",
    "        uSex = values[\"uSex\"]\n",
    "        uActivity = values[\"uActivity\"]\n",
    "        \n",
    "        caloriesOutput = findCaloriesNeed(uAge, uWeight, uHeight, uSex, uActivity)\n",
    "        breakfast = food.iloc[(food['Calories'].astype(int) - (caloriesOutput * 0.3)).abs().argsort()[:1]]\n",
    "        lunch = food.iloc[(food['Calories'].astype(int) - (caloriesOutput * 0.5)).abs().argsort()[:1]]\n",
    "        dinner = food.iloc[(food['Calories'].astype(int) - (caloriesOutput * 0.2)).abs().argsort()[:1]]\n",
    "    \n",
    "        window[\"dailyCalories\"].update(\"Total Calories Need:\" + str(caloriesOutput) + \" cal\")\n",
    "        \n",
    "        window[\"bFood\"].update(breakfast['Food'].values[0])\n",
    "        window[\"bServing\"].update(breakfast['Serving'].values[0])\n",
    "        window[\"bCalories\"].update(breakfast['Calories'].values[0] + \" cal\")\n",
    "        \n",
    "        window[\"lFood\"].update(lunch['Food'].values[0])\n",
    "        window[\"lServing\"].update(lunch['Serving'].values[0])\n",
    "        window[\"lCalories\"].update(lunch['Calories'].values[0] + \" cal\")\n",
    "        \n",
    "        window[\"dFood\"].update(dinner['Food'].values[0])\n",
    "        window[\"dServing\"].update(dinner['Serving'].values[0])\n",
    "        window[\"dCalories\"].update(dinner['Calories'].values[0] + \" cal\")\n",
    "        \n",
    "        window[f'layout1'].update(visible = False)\n",
    "        window[f'layout2'].update(visible = True)\n",
    "    \n",
    "    if event == \"Update Menu\":\n",
    "        window[f'layout1'].update(visible = True)\n",
    "        window[f'layout2'].update(visible = False)\n",
    "        \n",
    "    if event == \"Cancel\":\n",
    "        window[f'layout1'].update(visible = False)\n",
    "        window[f'layout2'].update(visible = True)\n",
    "        \n",
    "window.close()"
   ]
  }
 ],
 "metadata": {
  "kernelspec": {
   "display_name": "Python 3",
   "language": "python",
   "name": "python3"
  },
  "language_info": {
   "codemirror_mode": {
    "name": "ipython",
    "version": 3
   },
   "file_extension": ".py",
   "mimetype": "text/x-python",
   "name": "python",
   "nbconvert_exporter": "python",
   "pygments_lexer": "ipython3",
   "version": "3.8.8"
  }
 },
 "nbformat": 4,
 "nbformat_minor": 5
}
